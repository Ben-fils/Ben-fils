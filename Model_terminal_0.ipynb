{
  "nbformat": 4,
  "nbformat_minor": 0,
  "metadata": {
    "colab": {
      "provenance": [],
      "mount_file_id": "1OJc5m1lXlTuZS-SZpLEmcTZB4yMW-WM-",
      "authorship_tag": "ABX9TyMLEz6UNIK7GvjGUGomAZMB",
      "include_colab_link": true
    },
    "kernelspec": {
      "name": "python3",
      "display_name": "Python 3"
    },
    "language_info": {
      "name": "python"
    }
  },
  "cells": [
    {
      "cell_type": "markdown",
      "metadata": {
        "id": "view-in-github",
        "colab_type": "text"
      },
      "source": [
        "<a href=\"https://colab.research.google.com/github/Ben-fils/Ben-fils/blob/main/Model_terminal_0.ipynb\" target=\"_parent\"><img src=\"https://colab.research.google.com/assets/colab-badge.svg\" alt=\"Open In Colab\"/></a>"
      ]
    },
    {
      "source": [
        "import pandas as pd\n",
        "from sklearn.model_selection import train_test_split\n",
        "from sklearn.preprocessing import StandardScaler\n",
        "from tensorflow.keras.models import Sequential\n",
        "from tensorflow.keras.layers import Dense\n",
        "\n",
        "data = pd.read_csv('/content/drive/MyDrive/student-mat-pass-or-fail0.csv')\n",
        "\n",
        "features = ['sex', 'address', 'Pstatus', 'schoolsup', 'famsup',\n",
        "                'paid', 'activities', 'internet', 'pass/fail']\n",
        "target = 'pass/fail'\n",
        "\n",
        "data[target] = data[target].map({'Fail': 0, 'Pass': 1})\n",
        "\n",
        "X = data[features]\n",
        "y = data[target]\n",
        "\n",
        "X_train, X_test, y_train, y_test = train_test_split(X, y, test_size=0.2, random_state=42)\n",
        "\n",
        "scaler = StandardScaler()\n",
        "X_train = scaler.fit_transform(X_train)\n",
        "X_test = scaler.transform(X_test)\n",
        "\n",
        "model = Sequential()\n",
        "model.add(Dense(64, activation='relu', input_shape=(len(features),))) # Use 'features' here\n",
        "model.add(Dense(32, activation='relu'))\n",
        "model.add(Dense(1, activation='sigmoid'))\n",
        "\n",
        "model.compile(optimizer='adam', loss='binary_crossentropy', metrics=['accuracy'])\n",
        "\n",
        "model.fit(X_train, y_train, epochs=200, batch_size=32, validation_split=0.2)\n",
        "\n",
        "loss, accuracy = model.evaluate(X_test, y_test)\n",
        "print(f'Test Loss: {loss}, Test Accuracy: {accuracy}')\n",
        "\n",
        "while True:\n",
        "    try:\n",
        "        sex = int(input(\"Entrez le sex de l'étudiant (0: Male, 1: Female): \"))\n",
        "        address_type= int(input(\"Entrez le type d'adresse (0: Rural, 1: Urban): \"))\n",
        "        Pstatus0 = int(input(\"Entrez le status de cohabitation (0: Apart, 1: Living Together): \"))\n",
        "        schoolsup0 = int(input(\"Entrez le support educationnel supplémentaire (0: No, 1: Yes): \"))\n",
        "        famsup0 = int(input(\"Entrez le support educationnel supplémentaire familial (0: No, 1: Yes): \"))\n",
        "        paid0 = int(input(\"Entrez le cours payants (0: No, 1: Yes): \"))\n",
        "        activities0 = int(input(\"Entrez les activités extra-scolaire (0: No, 1: Yes): \"))\n",
        "        internet0 = int(input(\"Entrez la possession de connexion à la maison (0: No, 1: Yes): \"))\n",
        "        passfail0 = int(input(\"Entrez l'échec ou la réussite aux examen précèdent (0: Fail, 1: Pass): \"))\n",
        "        break\n",
        "    except ValueError:\n",
        "        print(\"Invalid input. Please enter numbers (0 or 1) for each feature.\")\n",
        "\n",
        "\n",
        "new_data = pd.DataFrame({\n",
        "    'sex': [sex],\n",
        "    'address': [address_type],\n",
        "    'Pstatus': [Pstatus0],\n",
        "    'schoolsup': [schoolsup0],\n",
        "    'famsup': [famsup0],\n",
        "    'paid': [paid0],\n",
        "    'activities': [activities0],\n",
        "    'internet': [internet0],\n",
        "    'pass/fail': [passfail0]\n",
        "})\n",
        "\n",
        "new_data_scaled = scaler.transform(new_data)\n",
        "\n",
        "prediction = model.predict(new_data_scaled)[0][0]\n",
        "if prediction >= 0.5:\n",
        "    print(\"Prediction: Pass\")\n",
        "else:\n",
        "    print(\"Prediction: Fail\")"
      ],
      "cell_type": "code",
      "metadata": {
        "id": "4mZXSNnvimfH"
      },
      "execution_count": null,
      "outputs": []
    }
  ]
}